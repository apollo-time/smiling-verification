{
 "cells": [
  {
   "cell_type": "code",
   "execution_count": 1,
   "metadata": {
    "collapsed": false
   },
   "outputs": [],
   "source": [
    "from __future__ import print_function\n",
    "import tensorflow as tf\n",
    "from six.moves import cPickle as pickle\n",
    "from six.moves import range\n",
    "import numpy as np"
   ]
  },
  {
   "cell_type": "markdown",
   "metadata": {},
   "source": [
    "## Read dataset from pickle"
   ]
  },
  {
   "cell_type": "code",
   "execution_count": 2,
   "metadata": {
    "collapsed": false
   },
   "outputs": [
    {
     "name": "stdout",
     "output_type": "stream",
     "text": [
      "Training set (28709, 48, 48) (28709,)\n",
      "Valid set (3589, 48, 48) (3589,)\n",
      "Test set (3589, 48, 48) (3589,)\n"
     ]
    }
   ],
   "source": [
    "pickle_file = 'fer2013.pickle'\n",
    "\n",
    "with open(pickle_file, 'rb') as f:\n",
    "    save = pickle.load(f)\n",
    "    train_dataset = save['train_dataset']\n",
    "    train_labels = save['train_labels']\n",
    "    valid_dataset = save['valid_dataset']\n",
    "    valid_labels = save['valid_labels']\n",
    "    test_dataset = save['test_dataset']\n",
    "    test_labels = save['test_labels']\n",
    "    del save\n",
    "    \n",
    "    print('Training set', train_dataset.shape, train_labels.shape)\n",
    "    print('Valid set', valid_dataset.shape, valid_labels.shape)\n",
    "    print('Test set', test_dataset.shape, test_labels.shape)"
   ]
  },
  {
   "cell_type": "markdown",
   "metadata": {},
   "source": [
    "## Reformat data to image with channel"
   ]
  },
  {
   "cell_type": "code",
   "execution_count": 3,
   "metadata": {
    "collapsed": false
   },
   "outputs": [
    {
     "name": "stdout",
     "output_type": "stream",
     "text": [
      "Training set (28709, 48, 48, 1) (28709, 7)\n",
      "Validation set (3589, 48, 48, 1) (3589, 7)\n",
      "Test set (3589, 48, 48, 1) (3589, 7)\n"
     ]
    }
   ],
   "source": [
    "image_size = 48\n",
    "num_labels = 7\n",
    "num_channels = 1\n",
    "\n",
    "def reformat(dataset, labels):\n",
    "    dataset = dataset.reshape((-1, image_size, image_size, num_channels)).astype(np.float32)\n",
    "    labels = (np.arange(num_labels) == labels[:, None]).astype(np.float32)\n",
    "    return dataset, labels\n",
    "\n",
    "train_dataset, train_labels = reformat(train_dataset, train_labels)\n",
    "valid_dataset, valid_labels = reformat(valid_dataset, valid_labels)\n",
    "test_dataset, test_labels = reformat(test_dataset, test_labels)\n",
    "    \n",
    "print('Training set', train_dataset.shape, train_labels.shape)\n",
    "print('Validation set', valid_dataset.shape, valid_labels.shape)\n",
    "print('Test set', test_dataset.shape, test_labels.shape)"
   ]
  },
  {
   "cell_type": "code",
   "execution_count": 4,
   "metadata": {
    "collapsed": false
   },
   "outputs": [],
   "source": [
    "batch_size = 48\n",
    "kernel_size = 5\n",
    "c1_depth = 6\n",
    "c2_depth = 16\n",
    "fc1_nodes = 120\n",
    "num_hidden = 84\n",
    "\n",
    "graph = tf.Graph()\n",
    "with graph.as_default():\n",
    "    #Input data\n",
    "    \n",
    "    tf_train_dataset = tf.placeholder(dtype=tf.float32, \n",
    "        shape=(batch_size, image_size, image_size, num_channels))\n",
    "    tf_train_labels = tf.placeholder(dtype=tf.float32,\n",
    "        shape=(batch_size, num_labels))\n",
    "    \n",
    "    tf_valid_dataset = tf.constant(valid_dataset)\n",
    "    tf_test_dataset = tf.constant(test_dataset)\n",
    "    \n",
    "      # Variables.\n",
    "    c1_weights = tf.Variable(tf.truncated_normal(\n",
    "      [kernel_size, kernel_size, num_channels, c1_depth], stddev=0.1))\n",
    "    c1_bias = tf.Variable(tf.zeros([c1_depth]))\n",
    "\n",
    "    c2_weights = tf.Variable(tf.truncated_normal(\n",
    "        [kernel_size, kernel_size, c1_depth, c2_depth], stddev=0.1))\n",
    "    c2_bias = tf.Variable(tf.ones([c2_depth]))\n",
    "    \n",
    "    fc1_weights = tf.Variable(tf.truncated_normal(\n",
    "                [image_size //4 * image_size //4 * c2_depth, fc1_nodes], stddev=0.1))\n",
    "    fc1_bias = tf.Variable(tf.ones([fc1_nodes]))\n",
    "                          \n",
    "    hidden_weight = tf.Variable(tf.truncated_normal(\n",
    "            [fc1_nodes, num_hidden], stddev=0.1))\n",
    "    hidden_bias = tf.Variable(tf.ones([num_hidden]))\n",
    "                    \n",
    "    final_weight = tf.Variable(tf.truncated_normal(\n",
    "            [num_hidden, num_labels], stddev=0.1))\n",
    "    final_bias = tf.Variable(tf.ones([num_labels]))\n",
    "                          \n",
    "    def model(data):\n",
    "        conv = tf.nn.conv2d(data, c1_weights, [1,1,1,1], padding='SAME')\n",
    "        hidden = tf.nn.relu(conv + c1_bias)\n",
    "        pooled = tf.nn.max_pool(hidden, ksize=[1,2,2,1],\n",
    "                                strides=[1,2,2,1], padding='SAME')\n",
    "                          \n",
    "        conv = tf.nn.conv2d(pooled, c2_weights, [1,1,1,1], padding='SAME')\n",
    "        hidden = tf.nn.relu(conv + c2_bias)\n",
    "        pooled = tf.nn.max_pool(hidden, ksize=[1,2,2,1],\n",
    "                                strides=[1,2,2,1], padding='SAME')\n",
    "        shape = pooled.get_shape().as_list()\n",
    "                          \n",
    "        reshape = tf.reshape(pooled, [shape[0], shape[1] * shape[2] * shape[3]])\n",
    "        fc1 = tf.nn.relu(tf.matmul(reshape, fc1_weights) + fc1_bias)\n",
    "        fc2 = tf.nn.relu(tf.matmul(fc1, hidden_weight) + hidden_bias)\n",
    "        \n",
    "        return tf.matmul(fc2, final_weight) + final_bias\n",
    "    \n",
    "    logits = model(tf_train_dataset)\n",
    "    loss = tf.reduce_mean(\n",
    "        tf.nn.softmax_cross_entropy_with_logits(logits, tf_train_labels))\n",
    "        \n",
    "    optimizer = tf.train.GradientDescentOptimizer(0.05).minimize(loss)\n",
    "                          \n",
    "    train_prediction = tf.nn.softmax(logits)\n",
    "    valid_prediction = tf.nn.softmax(model(tf_valid_dataset))\n",
    "    test_prediction = tf.nn.softmax(model(tf_test_dataset))"
   ]
  },
  {
   "cell_type": "code",
   "execution_count": 5,
   "metadata": {
    "collapsed": true
   },
   "outputs": [],
   "source": [
    "def accuracy(predictions, labels):\n",
    "  return (100.0 * np.sum(np.argmax(predictions, 1) == np.argmax(labels, 1))\n",
    "          / predictions.shape[0])"
   ]
  },
  {
   "cell_type": "code",
   "execution_count": 10,
   "metadata": {
    "collapsed": false
   },
   "outputs": [
    {
     "name": "stdout",
     "output_type": "stream",
     "text": [
      "Initialized\n",
      "Minibatch loss at step 0: 71.259956\n",
      "Minibatch accuracy: 18.8%\n",
      "Validation accuracy: 24.5%\n",
      "Minibatch loss at step 1000: 1.761586\n",
      "Minibatch accuracy: 29.2%\n",
      "Validation accuracy: 24.5%\n",
      "Minibatch loss at step 2000: 1.689804\n",
      "Minibatch accuracy: 35.4%\n",
      "Validation accuracy: 24.5%\n",
      "Minibatch loss at step 3000: 1.798278\n",
      "Minibatch accuracy: 29.2%\n",
      "Validation accuracy: 24.5%\n",
      "Minibatch loss at step 4000: 1.735793\n",
      "Minibatch accuracy: 31.2%\n",
      "Validation accuracy: 24.5%\n",
      "Minibatch loss at step 5000: 1.861068\n",
      "Minibatch accuracy: 18.8%\n",
      "Validation accuracy: 24.5%\n",
      "Minibatch loss at step 6000: 1.860490\n",
      "Minibatch accuracy: 20.8%\n",
      "Validation accuracy: 24.5%\n",
      "Minibatch loss at step 7000: 1.764601\n",
      "Minibatch accuracy: 29.2%\n",
      "Validation accuracy: 24.5%\n",
      "Minibatch loss at step 8000: 1.889237\n",
      "Minibatch accuracy: 25.0%\n",
      "Validation accuracy: 24.5%\n",
      "Minibatch loss at step 9000: 1.782882\n",
      "Minibatch accuracy: 33.3%\n",
      "Validation accuracy: 24.5%\n",
      "Minibatch loss at step 10000: 1.809818\n",
      "Minibatch accuracy: 25.0%\n",
      "Validation accuracy: 24.5%\n",
      "Test accuracy: 24.9%\n"
     ]
    }
   ],
   "source": [
    "num_steps = 10001\n",
    "\n",
    "with tf.Session(graph=graph) as session:\n",
    "  tf.initialize_all_variables().run()\n",
    "  print('Initialized')\n",
    "  for step in range(num_steps):\n",
    "    offset = (step * batch_size) % (train_labels.shape[0] - batch_size)\n",
    "    batch_data = train_dataset[offset:(offset + batch_size), :, :, :]\n",
    "    batch_labels = train_labels[offset:(offset + batch_size), :]\n",
    "    feed_dict = {tf_train_dataset : batch_data, tf_train_labels : batch_labels}\n",
    "    _, l, predictions = session.run(\n",
    "      [optimizer, loss, train_prediction], feed_dict=feed_dict)\n",
    "    if (step % 1000 == 0):\n",
    "      print('Minibatch loss at step %d: %f' % (step, l))\n",
    "      print('Minibatch accuracy: %.1f%%' % accuracy(predictions, batch_labels))\n",
    "      print('Validation accuracy: %.1f%%' % accuracy(\n",
    "        valid_prediction.eval(), valid_labels))\n",
    "  print('Test accuracy: %.1f%%' % accuracy(test_prediction.eval(), test_labels))"
   ]
  },
  {
   "cell_type": "code",
   "execution_count": null,
   "metadata": {
    "collapsed": true
   },
   "outputs": [],
   "source": []
  }
 ],
 "metadata": {
  "anaconda-cloud": {},
  "kernelspec": {
   "display_name": "Python [conda env:tensorflow]",
   "language": "python",
   "name": "conda-env-tensorflow-py"
  },
  "language_info": {
   "codemirror_mode": {
    "name": "ipython",
    "version": 2
   },
   "file_extension": ".py",
   "mimetype": "text/x-python",
   "name": "python",
   "nbconvert_exporter": "python",
   "pygments_lexer": "ipython2",
   "version": "2.7.12"
  }
 },
 "nbformat": 4,
 "nbformat_minor": 1
}
